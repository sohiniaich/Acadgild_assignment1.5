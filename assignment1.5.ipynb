{
 "cells": [
  {
   "cell_type": "code",
   "execution_count": 1,
   "metadata": {},
   "outputs": [
    {
     "name": "stdout",
     "output_type": "stream",
     "text": [
      "please enter some comma seprated numbers : 1,2,3\n",
      "List :  ['1', '2', '3']\n"
     ]
    }
   ],
   "source": [
    "# A program which accepts a sequence of comma-separated numbers from console\n",
    "#and generate a list.\n",
    "\n",
    "values = input(\"please enter some comma seprated numbers : \")\n",
    "lis = values.split(\",\")\n",
    "print('List : ',lis)"
   ]
  },
  {
   "cell_type": "code",
   "execution_count": 3,
   "metadata": {},
   "outputs": [
    {
     "name": "stdout",
     "output_type": "stream",
     "text": [
      "The comma separated list : [1, 2, 3]\n"
     ]
    }
   ],
   "source": [
    "c=[int(x) for x in lis]\n",
    "print('The comma separated list :',c)"
   ]
  }
 ],
 "metadata": {
  "kernelspec": {
   "display_name": "Python 3",
   "language": "python",
   "name": "python3"
  },
  "language_info": {
   "codemirror_mode": {
    "name": "ipython",
    "version": 3
   },
   "file_extension": ".py",
   "mimetype": "text/x-python",
   "name": "python",
   "nbconvert_exporter": "python",
   "pygments_lexer": "ipython3",
   "version": "3.6.4"
  }
 },
 "nbformat": 4,
 "nbformat_minor": 2
}
